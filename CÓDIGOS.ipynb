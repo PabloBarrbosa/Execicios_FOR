{
  "cells": [
    {
      "cell_type": "code",
      "execution_count": null,
      "metadata": {
        "id": "Dph7rwuIEgGC"
      },
      "outputs": [],
      "source": [
        "maiornumero = int(input(\"Digite um número: \"))\n",
        "for i in range(5):\n",
        "    numero = int(input(\"Digite um número: \"))\n",
        "    if numero > maiornumero:\n",
        "        maiornumero = numero\n",
        "print(\"O maior número é:\", maiornumero)"
      ]
    },
    {
      "cell_type": "code",
      "execution_count": null,
      "metadata": {
        "id": "wc2aDCNpQRFg"
      },
      "outputs": [],
      "source": [
        "for numero in range(1000, 2001):\n",
        "    if numero % 11 == 2:\n",
        "        print(numero)"
      ]
    },
    {
      "cell_type": "code",
      "execution_count": null,
      "metadata": {
        "id": "-vyLBNWNSeeL"
      },
      "outputs": [],
      "source": [
        "soma = 0\n",
        "for i in range(5):\n",
        "    numero = float(input(\"Digite um número: \"))\n",
        "    soma += numero\n",
        "media = soma / 5\n",
        "print(\"A soma dos números é:\", soma)\n",
        "print(\"A média dos números é:\", media)"
      ]
    },
    {
      "cell_type": "code",
      "execution_count": null,
      "metadata": {
        "id": "zh8c6n7OW9Hy"
      },
      "outputs": [],
      "source": [
        "numero = int(input(\"Digite um número da tabuada: \"))\n",
        "for tabuada in range(1, 11):\n",
        "    resultado = numero * tabuada\n",
        "    print(numero, \"*\", tabuada, \"=\", resultado)"
      ]
    },
    {
      "cell_type": "code",
      "execution_count": null,
      "metadata": {
        "id": "EWS73lySbOuQ"
      },
      "outputs": [],
      "source": [
        "for numero in range(1, 11):\n",
        "    for tabuada in range(1, 11):\n",
        "        resultado = numero * tabuada\n",
        "        print(numero, \"X\", tabuada, \"=\", resultado)\n",
        "    print()"
      ]
    },
    {
      "cell_type": "code",
      "execution_count": null,
      "metadata": {
        "id": "ywVqNOFQhzgA"
      },
      "outputs": [],
      "source": [
        "print(\"Números um abaixo do outro:\")\n",
        "for numero in range(1, 21):\n",
        "    print(numero)\n",
        "\n",
        "\n",
        "print(\"Números um ao lado do outro:\")\n",
        "for numerolado in range(1, 21):\n",
        "    print(numerolado, end=\" \")"
      ]
    },
    {
      "cell_type": "code",
      "execution_count": null,
      "metadata": {
        "id": "9UAu9Bd592_2"
      },
      "outputs": [],
      "source": [
        "for numero in range(1, 51, 2):\n",
        "    print(numero)"
      ]
    },
    {
      "cell_type": "code",
      "execution_count": null,
      "metadata": {
        "id": "cHvlAQ8CitEU"
      },
      "outputs": [],
      "source": [
        "numero1 = int(input(\"Digite o primeiro número: \"))\n",
        "numero2 = int(input(\"Digite o segundo número: \"))\n",
        "\n",
        "for numero in range(numero1, numero2 + 1):\n",
        "    print(numero, end=\" \")"
      ]
    },
    {
      "cell_type": "code",
      "execution_count": null,
      "metadata": {
        "id": "5dOEI74SMj5o"
      },
      "outputs": [],
      "source": [
        "pares = 0\n",
        "impares = 0\n",
        "\n",
        "for n in range(10):\n",
        "    numero = int(input(\"Digite um número: \"))\n",
        "    if numero % 2 == 0:\n",
        "        pares += 1\n",
        "    else:\n",
        "        impares += 1\n",
        "\n",
        "print(\"Quantidade de números pares:\", pares)\n",
        "print(\"Quantidade de números ímpares:\", impares)"
      ]
    },
    {
      "cell_type": "code",
      "execution_count": null,
      "metadata": {
        "id": "kyHNmCXMnD7v"
      },
      "outputs": [],
      "source": [
        "faturamentoloja = 0\n",
        "\n",
        "for cliente in range(5):\n",
        "    valordacompra = float(input(\"Digite o valor da compra: \"))\n",
        "    faturamentoloja += valordacompra\n",
        "\n",
        "if faturamentoloja > 54000:\n",
        "    diferenca = faturamentoloja - 54000\n",
        "    print(\"O faturamento da loja foi maior que da loja B por\", diferenca)\n",
        "else:\n",
        "    print(\"O faturamento da loja não foi maior que da loja B.\")"
      ]
    },
    {
      "cell_type": "code",
      "execution_count": null,
      "metadata": {
        "id": "6ak5l_MIdQK8"
      },
      "outputs": [],
      "source": [
        "base = int(input(\"Digite o número da base: \"))\n",
        "expoente = int(input(\"Digite o número do expoente: \"))\n",
        "\n",
        "\n",
        "potencia = 1\n",
        "\n",
        "for p in range(expoente):\n",
        "    potencia *= base\n",
        "\n",
        "print(potencia)\n"
      ]
    },
    {
      "cell_type": "code",
      "execution_count": null,
      "metadata": {
        "id": "uYK0qK-MHkFR"
      },
      "outputs": [],
      "source": [
        "for n in range(999999999999999):\n",
        "    nota = float(input(\"Digite uma nota de zero e dez: \"))\n",
        "    if 0 <= nota <= 10:\n",
        "        print(\"Nota válida:\", nota)\n",
        "        break\n",
        "    else:\n",
        "        print(\"Nota inválida. Digite uma nota de zero e dez.\")"
      ]
    },
    {
      "cell_type": "code",
      "execution_count": null,
      "metadata": {
        "id": "7WiJJxzpa4TT"
      },
      "outputs": [],
      "source": [
        "for valorcompra in range(500, 3000, 100):\n",
        "    descontopercentual = (valorcompra - 500) // 100\n",
        "    if descontopercentual > 25:\n",
        "        descontopercentual = 25\n",
        "    valorfinal = valorcompra * (1 - descontopercentual / 100)\n",
        "    print(\"R$\", valorcompra, \"-\", descontopercentual, \"% - R$\", valorfinal)"
      ]
    },
    {
      "cell_type": "code",
      "execution_count": null,
      "metadata": {
        "id": "DvgIgwdisNld"
      },
      "outputs": [],
      "source": [
        "salario = float(input(\"Digite Salário Inicial: \"))\n",
        "percentual = 0.015\n",
        "\n",
        "for i in range(1995, 2025):\n",
        "  aumento = salario * percentual\n",
        "  salario += aumento\n",
        "  percentual *= 2\n",
        "print(f\"Salário em {i} = {salario:.2f}\")\n"
      ]
    },
    {
      "cell_type": "code",
      "execution_count": null,
      "metadata": {
        "id": "RKO5GL8Qw1gZ"
      },
      "outputs": [],
      "source": [
        "N = int(input(\"Digite um número: \"))\n",
        "primos = [] # Lista\n",
        "divisoes = 0\n",
        "for numero in range(2, N + 1):\n",
        "    for i in range(2, int(numero ** 0.5) + 1):\n",
        "        divisoes += 1\n",
        "        if numero % i == 0:\n",
        "            break\n",
        "    else:\n",
        "        primos += [numero]\n",
        "\n",
        "print(f\"Os números primos até {N} são:\")\n",
        "print(primos)\n",
        "print(f\"O número total de divisões realizadas foi: {divisoes}\")"
      ]
    },
    {
      "cell_type": "code",
      "execution_count": null,
      "metadata": {
        "id": "BjM0vLB44YzQ"
      },
      "outputs": [],
      "source": [
        "ate_15 = 0\n",
        "de_16_a_30 = 0\n",
        "de_31_a_45 = 0\n",
        "de_46_a_60 = 0\n",
        "acima_de_61 = 0\n",
        "\n",
        "for i in range(15):\n",
        "    idade = int(input(f\"Digite a idade da pessoa {i+1}: \"))\n",
        "\n",
        "    if idade <= 15:\n",
        "        ate_15 += 1\n",
        "    elif 16 <= idade <= 30:\n",
        "        de_16_a_30 += 1\n",
        "    elif 31 <= idade <= 45:\n",
        "        de_31_a_45 += 1\n",
        "    elif 46 <= idade <= 60:\n",
        "        de_46_a_60 += 1\n",
        "    else:\n",
        "        acima_de_61 += 1\n",
        "\n",
        "total_pessoas = ate_15 + de_16_a_30 + de_31_a_45 + de_46_a_60 + acima_de_61\n",
        "\n",
        "percentual_ate_15 = (ate_15 / total_pessoas) * 100\n",
        "percentual_acima_61 = (acima_de_61 / total_pessoas) * 100\n",
        "\n",
        "print(\"\\nQuantidade de pessoas em cada faixa etária:\")\n",
        "print(f\"Até 15 anos: {ate_15}\")\n",
        "print(f\"De 16 a 30 anos: {de_16_a_30}\")\n",
        "print(f\"De 31 a 45 anos: {de_31_a_45}\")\n",
        "print(f\"De 46 a 60 anos: {de_46_a_60}\")\n",
        "print(f\"Acima de 61 anos: {acima_de_61}\")\n",
        "\n",
        "print(\"\\nPercentagem de pessoas na primeira e última faixa etária:\")\n",
        "print(f\"Percentagem até 15 anos: {percentual_ate_15:.2f}%\")\n",
        "print(f\"Percentagem acima de 61 anos: {percentual_acima_61:.2f}%\")"
      ]
    }
  ],
  "metadata": {
    "colab": {
      "provenance": []
    },
    "kernelspec": {
      "display_name": "Python 3",
      "name": "python3"
    },
    "language_info": {
      "name": "python"
    }
  },
  "nbformat": 4,
  "nbformat_minor": 0
}